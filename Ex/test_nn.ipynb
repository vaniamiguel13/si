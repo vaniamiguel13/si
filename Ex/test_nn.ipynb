{
 "cells": [
  {
   "cell_type": "code",
   "execution_count": null,
   "metadata": {
    "collapsed": true
   },
   "outputs": [],
   "source": [
    "from si.neural_network.nn import NN\n",
    "from si.neural_network.layers import Dense, SigmoidActivation, SoftMaxActivation, ReLUActivation"
   ]
  },
  {
   "cell_type": "code",
   "execution_count": null,
   "outputs": [],
   "source": [
    "l1 = Dense(2, 2)\n",
    "l2 = Dense(2, 1)\n",
    "\n",
    "l1.sg = SigmoidActivation()\n",
    "l2.sg = SigmoidActivation()\n",
    "\n",
    "nn_node1 = NN(\n",
    "    layers=[l1, l1.sg, l2, l2.sg]\n",
    ")\n",
    "\n",
    "#nn_node1.fit()"
   ],
   "metadata": {
    "collapsed": false
   }
  },
  {
   "cell_type": "code",
   "execution_count": null,
   "outputs": [],
   "source": [
    "#binário\n",
    "l1=Dense(32,32)\n",
    "l2=Dense(32,16)\n",
    "l3=Dense(16,2)\n",
    "\n",
    "l1.sg = SigmoidActivation()\n",
    "l2.sg = SigmoidActivation()\n",
    "l3.sg = SigmoidActivation()\n",
    "\n",
    "nn_node2 = NN(\n",
    "    layers=[l1, l1.sg, l2, l2.sg, l3, l3.sg]\n",
    ")\n",
    "\n",
    "#nn_node2.fit()"
   ],
   "metadata": {
    "collapsed": false
   }
  },
  {
   "cell_type": "code",
   "execution_count": null,
   "outputs": [],
   "source": [
    "# multiclass\n",
    "\n",
    "l1=Dense(32,32)\n",
    "l2=Dense(32,16)\n",
    "l3=Dense(16,3)\n",
    "\n",
    "l1.sg = SigmoidActivation()\n",
    "l2.sg = SigmoidActivation()\n",
    "l3.sM = SoftMaxActivation()\n",
    "\n",
    "nn_node3 = NN(\n",
    "    layers=[l1, l1.sg, l2, l2.sg, l3, l3.sM]\n",
    ")\n",
    "\n",
    "#nn_node3.fit()"
   ],
   "metadata": {
    "collapsed": false
   }
  },
  {
   "cell_type": "code",
   "execution_count": null,
   "outputs": [],
   "source": [
    "# regressão\n",
    "\n",
    "l1=Dense(32,32)\n",
    "l2=Dense(32,16)\n",
    "l3=Dense(16,3)\n",
    "\n",
    "l1.rl = ReLUActivation()\n",
    "l2.rl = ReLUActivation()\n",
    "l3.rl = ReLUActivation()\n",
    "\n",
    "nn_node4 = NN(\n",
    "    layers=[l1, l1.rl, l2, l2.rl, l3, l3.rl]\n",
    ")\n",
    "\n",
    "#nn_node4.fit()"
   ],
   "metadata": {
    "collapsed": false
   }
  }
 ],
 "metadata": {
  "kernelspec": {
   "display_name": "Python 3",
   "language": "python",
   "name": "python3"
  },
  "language_info": {
   "codemirror_mode": {
    "name": "ipython",
    "version": 2
   },
   "file_extension": ".py",
   "mimetype": "text/x-python",
   "name": "python",
   "nbconvert_exporter": "python",
   "pygments_lexer": "ipython2",
   "version": "2.7.6"
  }
 },
 "nbformat": 4,
 "nbformat_minor": 0
}
