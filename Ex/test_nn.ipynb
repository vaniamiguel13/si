{
 "cells": [
  {
   "cell_type": "code",
   "execution_count": 6,
   "outputs": [],
   "source": [
    "from si.neural_network.nn import NN\n",
    "from si.neural_network.layers import Dense, SigmoidActivation, SoftMaxActivation, ReLUActivation, LinearActivation\n",
    "from si.data.dataset import Dataset\n",
    "import numpy as np"
   ],
   "metadata": {
    "collapsed": false
   }
  },
  {
   "cell_type": "code",
   "execution_count": 7,
   "outputs": [],
   "source": [
    "n_ex, n_feat = 64, 32\n",
    "ds_init = Dataset.from_random(n_ex, n_feat)"
   ],
   "metadata": {
    "collapsed": false
   }
  },
  {
   "cell_type": "code",
   "execution_count": 12,
   "outputs": [
    {
     "data": {
      "text/plain": "<si.neural_network.nn.NN at 0x2987258aec0>"
     },
     "execution_count": 12,
     "metadata": {},
     "output_type": "execute_result"
    }
   ],
   "source": [
    "y1 = np.random.RandomState(seed=0).randint(0, 2, n_ex)\n",
    "ds1 = Dataset(ds_init.X, y1)\n",
    "\n",
    "# binary -> {0, 1}\n",
    "l1 = Dense(n_feat, n_feat//2)\n",
    "l2 = Dense(n_feat//2, n_feat//4)\n",
    "l3 = Dense(n_feat//4, n_feat//8)\n",
    "\n",
    "l1.sg = SigmoidActivation()\n",
    "l2.sg = SigmoidActivation()\n",
    "l3.sg = SigmoidActivation()\n",
    "\n",
    "nn_node = NN(layers=[l1, l1.sg, l2, l2.sg, l3, l3.sg])\n",
    "nn_node.fit(ds1)"
   ],
   "metadata": {
    "collapsed": false
   }
  },
  {
   "cell_type": "code",
   "execution_count": 13,
   "outputs": [
    {
     "data": {
      "text/plain": "<si.neural_network.nn.NN at 0x29871cdfac0>"
     },
     "execution_count": 13,
     "metadata": {},
     "output_type": "execute_result"
    }
   ],
   "source": [
    "y2= np.random.RandomState(seed=0).randint(0, 3, n_ex)\n",
    "ds2 = Dataset(ds_init.X, y2)\n",
    "\n",
    "# multiclass\n",
    "l1=Dense(n_feat, n_feat//2)\n",
    "l2=Dense(n_feat//2, n_feat//4)\n",
    "l3=Dense(n_feat//4, n_feat//8)\n",
    "\n",
    "\n",
    "l1.sg = SigmoidActivation()\n",
    "l2.sg = SigmoidActivation()\n",
    "l3.sM = SoftMaxActivation()\n",
    "\n",
    "nn_model2 = NN(layers=[l1, l1.sg, l2, l2.sg, l3, l3.sM])\n",
    "nn_model2.fit(ds2)"
   ],
   "metadata": {
    "collapsed": false
   }
  },
  {
   "cell_type": "code",
   "execution_count": 14,
   "outputs": [
    {
     "data": {
      "text/plain": "<si.neural_network.nn.NN at 0x2987258b2b0>"
     },
     "execution_count": 14,
     "metadata": {},
     "output_type": "execute_result"
    }
   ],
   "source": [
    "# regression -> uniform distribution over [0, 100)\n",
    "y3 = np.random.RandomState(seed=0).rand(n_ex) * 100\n",
    "ds3 = Dataset(ds_init.X, y3)\n",
    "\n",
    "\n",
    "# regressão\n",
    "\n",
    "l1=Dense(n_feat, n_feat//2)\n",
    "l2=Dense(n_feat//2, n_feat//4)\n",
    "l3=Dense(n_feat//4, n_feat//8)\n",
    "\n",
    "\n",
    "l1.rl = ReLUActivation()\n",
    "l2.rl = ReLUActivation()\n",
    "l3.rl = LinearActivation()\n",
    "\n",
    "nn_model_3 = NN(\n",
    "    layers=[l1, l1.rl, l2, l2.rl, l3, l3.rl]\n",
    ")\n",
    "\n",
    "nn_model_3.fit(ds3)"
   ],
   "metadata": {
    "collapsed": false
   }
  },
  {
   "cell_type": "code",
   "execution_count": 5,
   "outputs": [],
   "source": [],
   "metadata": {
    "collapsed": false
   }
  }
 ],
 "metadata": {
  "kernelspec": {
   "display_name": "Python 3",
   "language": "python",
   "name": "python3"
  },
  "language_info": {
   "codemirror_mode": {
    "name": "ipython",
    "version": 2
   },
   "file_extension": ".py",
   "mimetype": "text/x-python",
   "name": "python",
   "nbconvert_exporter": "python",
   "pygments_lexer": "ipython2",
   "version": "2.7.6"
  }
 },
 "nbformat": 4,
 "nbformat_minor": 0
}
