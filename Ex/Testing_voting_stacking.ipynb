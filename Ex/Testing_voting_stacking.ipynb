{
 "cells": [
  {
   "cell_type": "code",
   "execution_count": 1,
   "outputs": [],
   "source": [
    "from si.ensemble.voting_classifier import VotingClassifier\n",
    "from si.ensemble.stacking_classifier import StackingClassifier\n",
    "from si.model_selection.split import train_test_split\n",
    "from si.io.CSV import read_csv\n",
    "from sklearn.preprocessing import StandardScaler\n",
    "\n",
    "#Models\n",
    "from si.neighbors.knn_classifier import KNNClassifier\n",
    "from si.linear_model.logistic_regression import LogisticRegression\n",
    "\n",
    "import numpy as np"
   ],
   "metadata": {
    "collapsed": false
   }
  },
  {
   "cell_type": "markdown",
   "source": [
    "# Voting Classifier"
   ],
   "metadata": {
    "collapsed": false
   }
  },
  {
   "cell_type": "code",
   "execution_count": 2,
   "outputs": [],
   "source": [
    "#Importing data\n",
    "data = read_csv('D:/Mestrado/2ano/1semestre/SIB/si/datasets/breast/breast-bin.data', sep=\",\", label= True)\n",
    "\n",
    "data.X = StandardScaler().fit_transform(data.X)\n",
    "#print(data.X)\n",
    "\n",
    "#Splitting data (train - test)\n",
    "data_train, data_test = train_test_split(data, 0.3, 1)"
   ],
   "metadata": {
    "collapsed": false
   }
  },
  {
   "cell_type": "code",
   "execution_count": 3,
   "outputs": [],
   "source": [
    "#Creating models\n",
    "logistic_model = LogisticRegression(max_iter=2000)\n",
    "knn_model = KNNClassifier(2)"
   ],
   "metadata": {
    "collapsed": false
   }
  },
  {
   "cell_type": "code",
   "execution_count": 4,
   "outputs": [
    {
     "name": "stdout",
     "output_type": "stream",
     "text": [
      "0.9234449760765551\n"
     ]
    }
   ],
   "source": [
    "voting_model = VotingClassifier([logistic_model, knn_model])\n",
    "\n",
    "voting_model.fit(data_train)\n",
    "print(voting_model.score(data_test))"
   ],
   "metadata": {
    "collapsed": false
   }
  },
  {
   "cell_type": "markdown",
   "source": [
    "# Stacking Classifier"
   ],
   "metadata": {
    "collapsed": false
   }
  },
  {
   "cell_type": "code",
   "execution_count": 5,
   "outputs": [],
   "source": [
    "#Creating models\n",
    "logistic_model = LogisticRegression(max_iter=2000)\n",
    "knn_model = KNNClassifier(2)\n",
    "\n",
    "#Creating final model\n",
    "knn_final_model = KNNClassifier(2)"
   ],
   "metadata": {
    "collapsed": false
   }
  },
  {
   "cell_type": "code",
   "execution_count": 6,
   "outputs": [
    {
     "name": "stdout",
     "output_type": "stream",
     "text": [
      "0.9234449760765551\n"
     ]
    }
   ],
   "source": [
    "stacking = StackingClassifier([logistic_model, knn_model], knn_final_model)\n",
    "stacking.fit(data_train)\n",
    "print(stacking.score(data_test))"
   ],
   "metadata": {
    "collapsed": false
   }
  }
 ],
 "metadata": {
  "kernelspec": {
   "display_name": "Python 3",
   "language": "python",
   "name": "python3"
  },
  "language_info": {
   "codemirror_mode": {
    "name": "ipython",
    "version": 2
   },
   "file_extension": ".py",
   "mimetype": "text/x-python",
   "name": "python",
   "nbconvert_exporter": "python",
   "pygments_lexer": "ipython2",
   "version": "2.7.6"
  }
 },
 "nbformat": 4,
 "nbformat_minor": 0
}
