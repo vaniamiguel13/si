{
 "cells": [
  {
   "cell_type": "markdown",
   "source": [
    "## DNA"
   ],
   "metadata": {
    "collapsed": false
   }
  },
  {
   "cell_type": "code",
   "execution_count": 1,
   "outputs": [],
   "source": [
    "from si.data.dataset import Dataset\n",
    "from si.feature_extraction.k_mer import KMer\n",
    "from si.model_selection.split import train_test_split\n",
    "from si.io.CSV import read_csv\n",
    "from sklearn.preprocessing import StandardScaler\n",
    "\n",
    "from si.linear_model.logistic_regression import LogisticRegression"
   ],
   "metadata": {
    "collapsed": false
   }
  },
  {
   "cell_type": "code",
   "execution_count": 2,
   "outputs": [],
   "source": [
    "tfbs = read_csv(\"D:/Mestrado/2ano/1semestre/SIB/si/datasets/tfbs/tfbs.csv\", \",\", True, True)\n",
    "#print(data)"
   ],
   "metadata": {
    "collapsed": false
   }
  },
  {
   "cell_type": "code",
   "execution_count": 3,
   "outputs": [
    {
     "name": "stdout",
     "output_type": "stream",
     "text": [
      "Predictions:\n",
      "[1 1 0 1 1 0 1 1 0 1 1 0 0 1 0 0 1 1 1 0 0 0 1 0 1 0 0 1 1 1 1 0 1 0 1 1 1\n",
      " 0 1 1 0 0 1 0 0 0 1 0 1 0 1 0 0 0 0 0 1 0 1 1 1 1 1 1 1 1 1 1 0 0 0 1 0 0\n",
      " 1 0 1 1 0 1 0 0 0 1 0 0 0 1 0 0 0 1 0 0 1 1 0 1 0 1 0 1 1 0 1 1 0 0 0 1 1\n",
      " 0 0 1 0 1 0 0 1 1 1 1 0 0 1 0 1 1 0 1 1 0 0 0 1 0 0 0 0 1 1 1 0 0 0 1 0 0\n",
      " 1 1 0 0 0 1 1 0 0 1 1 0 1 0 0 1 1 1 0 1 0 1 0 1 1 0 1 0 0 1 1 1 1 1 1 1 0\n",
      " 0 1 0 1 0 1 0 1 1 1 0 0 1 0 1 1 1 1 0 0 1 1 1 1 1 1 1 1 0 1 0 0 0 1 1 0 0\n",
      " 0 1 1 1 0 0 0 0 1 0 0 0 0 1 0 0 1 0 0 1 0 0 1 1 0 0 1 1 1 0 1 0 1 0 1 0 0\n",
      " 0 1 0 1 0 1 0 0 0 0 1 0 1 1 0 0 0 0 0 1 1 1 1 1 1 0 0 1 1 1 1 1 1 1 1 1 0\n",
      " 1 0 1 0 0 0 1 1 1 0 0 0 1 0 0 1 0 1 0 1 0 0 1 0 0 1 0 1 1 0 0 0 1 0 1 0 1\n",
      " 1 1 0 0 0 0 1 1 1 1 1 1 1 0 1 1 1 1 1 0 0 1 1 0 0 0 1 1 0 1 1 0 1 0 0 0 0\n",
      " 0 0 0 1 0 1 0 1 0 0 1 1 1 1 0 0 1 1 1 1 1 0 1 0 1 0 1 1 0 1 0 0 1 1 1 0 1\n",
      " 1 1 0 1 0 0 0 1 0 0 1 1 0 0 0 0 1 0 0 1 0 1 1 1 1 0 0 1 1 0 1 1 1 1 1 0 1\n",
      " 1 1 1 0 1 1 1 1 0 0 1 0 0 1 1 0 1 1 0 1 1 1 1 1 0 1 1 0 1 0 0 1 1 1 1 0 0\n",
      " 1 0 1 1 0 1 1 0 1 0 0 1 1 1 1 0 0 1 0 0 1 0 0 1 1 1 1 0 1 0 1 1 0 1 0 0 1\n",
      " 1 1 1 0 0 1 0 1 1 0 0 1 1 0 0 1 0 1 1 1 0 1 1 0 0 1 1 0 1 1 0 0 1 1 0 0 0\n",
      " 1 1 1 1 0 1 1 0 1 1 1 0 1 1 0 0 1 1 0 0 0 0 1 1 0 1 0 1 0 0 0 0 0 1 1 1 0\n",
      " 1 1 0 0 1 1 1 1]\n",
      "Accuracy score: 95.00%\n"
     ]
    }
   ],
   "source": [
    "km = KMer()\n",
    "tfbs_km = km.fit_transform(tfbs)\n",
    "# scale and split\n",
    "tfbs_km.X = StandardScaler().fit_transform(tfbs_km.X)\n",
    "tfbs_train, tfbs_test = train_test_split(tfbs_km, test_size=0.3, random_state=2)\n",
    "# predict labels using LogisticRegression\n",
    "lr = LogisticRegression()\n",
    "lr.fit(tfbs_train)\n",
    "preds = lr.predict(tfbs_test)\n",
    "print(f\"Predictions:\\n{preds}\")\n",
    "score = lr.score(tfbs_test)\n",
    "print(f\"Accuracy score: {score*100:.2f}%\")"
   ],
   "metadata": {
    "collapsed": false
   }
  },
  {
   "cell_type": "markdown",
   "source": [
    "## Protein"
   ],
   "metadata": {
    "collapsed": false
   }
  },
  {
   "cell_type": "code",
   "execution_count": 4,
   "outputs": [],
   "source": [
    "transporters = read_csv('D:/Mestrado/2ano/1semestre/SIB/si/datasets/transporters/transporters.csv', sep=\",\", features=True, label=True)"
   ],
   "metadata": {
    "collapsed": false
   }
  },
  {
   "cell_type": "code",
   "execution_count": 5,
   "outputs": [
    {
     "name": "stdout",
     "output_type": "stream",
     "text": [
      "Predictions:\n",
      "[1 0 0 0 1 0 1 0 1 0 1 0 0 1 0 1 1 1 0 1 1 0 0 1 1 0 1 1 0 0 0 1 0 1 0 1 0\n",
      " 0 0 1 0 1 0 0 0 1 0 1 0 1 0 1 0 1 0 0 0 0 0 0 0 1 0 0 0 0 0 1 1 0 0 0 0 0\n",
      " 0 1 0 0 1 0 0 1 1 1 0 0 0 1 1 0 0 1 1 0 0 1 1 1 1 0 0 1 0 1 0 1 1 1 0 0 0\n",
      " 0 1 1 0 1 1 1 0 0 0 1 0 0 0 1 0 1 1 0 0 1 1 0 0 1 0 0 0 1 0 1 0 1 0 0 0 0\n",
      " 1 1 0 0 0 0 1 0 0 0 1 1 0 0 1 1 0 0 0 1 1 0 0 1 1 0 1 0 0 1 0 0 1 1 0 1 1\n",
      " 0 1 0 0 1 0 0 0 0 0 0 0 0 0 1 1 0 0 0 0 0 0 0 1 1 0 0 0 0 1 0 1 0 1 0 0 0\n",
      " 0 1 1 0 0 0 0 0 1 1 0 0 0 0 1 0 0 0 1 0 0 1 1 0 0 1 0 0 1 0 1 0 1 1 1 1 0\n",
      " 0 1 0 1 0 0 0 1 0 1 0 1 1 0 0 1 0 1 0 1 1 1 0 0 0 0 1 0 1 0 0 1 0 1 0 0 0\n",
      " 1 0 1 0 0 1 1 0 1 1 0 0 0 0 0 0 0 0 0 0 1 0 1 0 0 0 0 1 0 0 1 1 1 0 0 1 0\n",
      " 0 1 0 0 0 1 0 1 0 0 1 0 0 0 1 0 1 1 0 0 0 0 1 0 0 1 1 1 1 0 0 0 0 0 1 1 1\n",
      " 0 0 0 0 0 0 0 0 1 1 0 0 0 0 0 0 0 1 0 1 0 0 0 1 1 0 0 0 0 1 1 1 1 0 0 0 1\n",
      " 0 0 1 1 0 1 0 1 0 0 0 1 0 0 0 0 1 0 0 1 0 0 1 0 1 1 0 1 0 1 0 0 0 0 0 0 1\n",
      " 1 0 0 1 1 0 1 1 1 0 0 0 1 1 0 1 0 1 1 0 1 1 1 1 0 0 0 0 0 0 0 0 0 1 0 1 0\n",
      " 0 1 1 0 1 0 1 1 0 0 0 1 0 0 0 1 1 0 1 1 0 1 1 1 0 1 0 0 0 0 1 0 1 0 0 1 1\n",
      " 0 0 1 0 1 0 1 0 0 1 1 0 0 1 1 1 0 0 1 1 0 0 1 1 0 0 1 0 0 0 0 1 0 1 0 1 0\n",
      " 0 1 1 0 0 0 0 0 0 1 0 0 1 0 0 0 1 0 1 0 0 1 0 1 0 1 0 0 0 1 0 1 0 0 1 0 0\n",
      " 1 0 0 0 0 1 0 1 1 0 0]\n",
      "Accuracy score: 75.12%\n"
     ]
    }
   ],
   "source": [
    "# compute new Dataset with k-mer frequencies as features\n",
    "km2 = KMer(k=2, alphabet=\"PROT\")\n",
    "transporters_km = km2.fit_transform(transporters)\n",
    "# scale and split\n",
    "transporters_km.X = StandardScaler().fit_transform(transporters_km.X)\n",
    "transporters_train, transporters_test = train_test_split(transporters_km, 0.3, 2)\n",
    "# predict labels using LogisticRegression\n",
    "lr2 = LogisticRegression()\n",
    "lr2.fit(transporters_train)\n",
    "preds2 = lr2.predict(transporters_test)\n",
    "print(f\"Predictions:\\n{preds2}\")\n",
    "score2 = lr2.score(transporters_test)\n",
    "print(f\"Accuracy score: {score2*100:.2f}%\")"
   ],
   "metadata": {
    "collapsed": false
   }
  }
 ],
 "metadata": {
  "kernelspec": {
   "display_name": "Python 3",
   "language": "python",
   "name": "python3"
  },
  "language_info": {
   "codemirror_mode": {
    "name": "ipython",
    "version": 2
   },
   "file_extension": ".py",
   "mimetype": "text/x-python",
   "name": "python",
   "nbconvert_exporter": "python",
   "pygments_lexer": "ipython2",
   "version": "2.7.6"
  }
 },
 "nbformat": 4,
 "nbformat_minor": 0
}
