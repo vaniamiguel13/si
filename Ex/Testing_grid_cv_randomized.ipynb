{
 "cells": [
  {
   "cell_type": "code",
   "execution_count": 1,
   "outputs": [
    {
     "name": "stdout",
     "output_type": "stream",
     "text": [
      "[0.73105858 0.88079708 0.95257413]\n"
     ]
    }
   ],
   "source": [
    "from si.data.dataset import Dataset\n",
    "from si.io.CSV import read_csv\n",
    "from si.model_selection.cross_validate import cross_validate\n",
    "from si.model_selection.grid_search import grid_search_cv\n",
    "from si.model_selection.randomized_search import randomized_search_cv\n",
    "from sklearn.preprocessing import StandardScaler\n",
    "import numpy as np\n",
    "import pandas as pd\n",
    "\n",
    "#Models\n",
    "from si.linear_model.logistic_regression import LogisticRegression"
   ],
   "metadata": {
    "collapsed": false
   }
  },
  {
   "cell_type": "markdown",
   "source": [
    "# Cross validation"
   ],
   "metadata": {
    "collapsed": false
   }
  },
  {
   "cell_type": "code",
   "execution_count": 2,
   "outputs": [],
   "source": [
    "#Importing data\n",
    "data= read_csv(\"D:/Mestrado/2ano/1semestre/SIB/si/datasets/breast/breast-bin.data\", \",\", False, True)\n",
    "data.X = StandardScaler().fit_transform(data.X)"
   ],
   "metadata": {
    "collapsed": false
   }
  },
  {
   "cell_type": "code",
   "execution_count": 3,
   "outputs": [
    {
     "name": "stdout",
     "output_type": "stream",
     "text": [
      "   seeds     train      test\n",
      "0    114  0.969325  0.969325\n",
      "1    372  0.969325  0.969325\n",
      "2    496  0.969325  0.969325\n",
      "3    846  0.967280  0.967280\n",
      "4    937  0.969325  0.969325\n"
     ]
    }
   ],
   "source": [
    "model = LogisticRegression()\n",
    "scores = cross_validate(model, data, cv=5, test_size=0.3)\n",
    "\n",
    "#print(scores)\n",
    "scores_dataframe = pd.DataFrame(scores)\n",
    "print(scores_dataframe)"
   ],
   "metadata": {
    "collapsed": false
   }
  },
  {
   "cell_type": "markdown",
   "source": [
    "# Grid search"
   ],
   "metadata": {
    "collapsed": false
   }
  },
  {
   "cell_type": "code",
   "execution_count": 4,
   "outputs": [
    {
     "name": "stdout",
     "output_type": "stream",
     "text": [
      "\n",
      "|\n",
      "\n",
      "Parameters:\n",
      "-----------\n",
      "{'l2_penalty': 1, 'alpha': 0.001, 'max_iter': 1000}\n",
      "\n",
      "Scores:\n",
      "-------\n",
      "   seeds     train      test\n",
      "0    632  0.961145  0.961145\n",
      "1    813  0.955010  0.955010\n",
      "2     27  0.965235  0.965235\n",
      "\n",
      "|\n",
      "\n",
      "Parameters:\n",
      "-----------\n",
      "{'l2_penalty': 1, 'alpha': 0.001, 'max_iter': 2000}\n",
      "\n",
      "Scores:\n",
      "-------\n",
      "   seeds     train      test\n",
      "0    779  0.967280  0.967280\n",
      "1    898  0.963190  0.963190\n",
      "2    672  0.969325  0.969325\n",
      "\n",
      "|\n",
      "\n",
      "Parameters:\n",
      "-----------\n",
      "{'l2_penalty': 1, 'alpha': 0.0001, 'max_iter': 1000}\n",
      "\n",
      "Scores:\n",
      "-------\n",
      "   seeds     train      test\n",
      "0    986  0.967280  0.967280\n",
      "1    358  0.963190  0.963190\n",
      "2    662  0.969325  0.969325\n",
      "\n",
      "|\n",
      "\n",
      "Parameters:\n",
      "-----------\n",
      "{'l2_penalty': 1, 'alpha': 0.0001, 'max_iter': 2000}\n",
      "\n",
      "Scores:\n",
      "-------\n",
      "   seeds     train      test\n",
      "0    509  0.973415  0.973415\n",
      "1    441  0.965235  0.965235\n",
      "2    471  0.973415  0.973415\n",
      "\n",
      "|\n",
      "\n",
      "Parameters:\n",
      "-----------\n",
      "{'l2_penalty': 10, 'alpha': 0.001, 'max_iter': 1000}\n",
      "\n",
      "Scores:\n",
      "-------\n",
      "   seeds     train      test\n",
      "0    325  0.961145  0.961145\n",
      "1    200  0.967280  0.967280\n",
      "2    928  0.967280  0.967280\n",
      "\n",
      "|\n",
      "\n",
      "Parameters:\n",
      "-----------\n",
      "{'l2_penalty': 10, 'alpha': 0.001, 'max_iter': 2000}\n",
      "\n",
      "Scores:\n",
      "-------\n",
      "   seeds     train      test\n",
      "0     21  0.969325  0.969325\n",
      "1     11  0.963190  0.963190\n",
      "2    653  0.969325  0.969325\n",
      "\n",
      "|\n",
      "\n",
      "Parameters:\n",
      "-----------\n",
      "{'l2_penalty': 10, 'alpha': 0.0001, 'max_iter': 1000}\n",
      "\n",
      "Scores:\n",
      "-------\n",
      "   seeds     train      test\n",
      "0    805  0.959100  0.959100\n",
      "1    353  0.967280  0.967280\n",
      "2    980  0.957055  0.957055\n",
      "\n",
      "|\n",
      "\n",
      "Parameters:\n",
      "-----------\n",
      "{'l2_penalty': 10, 'alpha': 0.0001, 'max_iter': 2000}\n",
      "\n",
      "Scores:\n",
      "-------\n",
      "   seeds    train     test\n",
      "0    292  0.97137  0.97137\n",
      "1    701  0.95910  0.95910\n",
      "2    651  0.97546  0.97546\n"
     ]
    }
   ],
   "source": [
    "model = LogisticRegression()\n",
    "\n",
    "parameters = {\"l2_penalty\": [1, 10],\n",
    "              \"alpha\": [0.001, 0.0001],\n",
    "              \"max_iter\": [1000, 2000]}\n",
    "\n",
    "scores = grid_search_cv(model, data, parameters, cv=3, test_size=0.3)\n",
    "\n",
    "#print(scores)\n",
    "\n",
    "for elem in scores:\n",
    "    print(\"\\n|\\n\")\n",
    "    print(\"Parameters:\\n-----------\")\n",
    "    print(elem[\"parameters\"])\n",
    "    print(\"\\nScores:\\n-------\")\n",
    "    print(pd.DataFrame({k:v for k,v in elem.items() if k!=\"parameters\"}))\n",
    "#scores_dataframe = pd.DataFrame(scores)\n",
    "#print(scores_dataframe)"
   ],
   "metadata": {
    "collapsed": false
   }
  },
  {
   "cell_type": "markdown",
   "source": [
    "# Randomized search"
   ],
   "metadata": {
    "collapsed": false
   }
  },
  {
   "cell_type": "code",
   "execution_count": 5,
   "outputs": [
    {
     "name": "stdout",
     "output_type": "stream",
     "text": [
      "\n",
      "|\n",
      "\n",
      "Parameters:\n",
      "-----------\n",
      "{'l2_penalty': 2, 'alpha': 0.0002818181818181818, 'max_iter': 1804}\n",
      "\n",
      "Scores:\n",
      "-------\n",
      "   seeds     train      test\n",
      "0    866  0.965235  0.965235\n",
      "1    913  0.973415  0.973415\n",
      "2    833  0.963190  0.963190\n",
      "\n",
      "|\n",
      "\n",
      "Parameters:\n",
      "-----------\n",
      "{'l2_penalty': 8, 'alpha': 0.00030909090909090914, 'max_iter': 1603}\n",
      "\n",
      "Scores:\n",
      "-------\n",
      "   seeds     train      test\n",
      "0    881  0.963190  0.963190\n",
      "1    334  0.967280  0.967280\n",
      "2    430  0.969325  0.969325\n",
      "\n",
      "|\n",
      "\n",
      "Parameters:\n",
      "-----------\n",
      "{'l2_penalty': 2, 'alpha': 0.0005363636363636364, 'max_iter': 1613}\n",
      "\n",
      "Scores:\n",
      "-------\n",
      "   seeds     train      test\n",
      "0    606  0.961145  0.961145\n",
      "1    251  0.965235  0.965235\n",
      "2    364  0.955010  0.955010\n",
      "\n",
      "|\n",
      "\n",
      "Parameters:\n",
      "-----------\n",
      "{'l2_penalty': 6, 'alpha': 0.00016363636363636363, 'max_iter': 1587}\n",
      "\n",
      "Scores:\n",
      "-------\n",
      "   seeds     train      test\n",
      "0    215  0.967280  0.967280\n",
      "1    438  0.965235  0.965235\n",
      "2    345  0.963190  0.963190\n",
      "\n",
      "|\n",
      "\n",
      "Parameters:\n",
      "-----------\n",
      "{'l2_penalty': 8, 'alpha': 0.00025454545454545456, 'max_iter': 1718}\n",
      "\n",
      "Scores:\n",
      "-------\n",
      "   seeds     train      test\n",
      "0    651  0.975460  0.975460\n",
      "1    961  0.963190  0.963190\n",
      "2     45  0.969325  0.969325\n",
      "\n",
      "|\n",
      "\n",
      "Parameters:\n",
      "-----------\n",
      "{'l2_penalty': 5, 'alpha': 0.0009272727272727273, 'max_iter': 1834}\n",
      "\n",
      "Scores:\n",
      "-------\n",
      "   seeds     train      test\n",
      "0    287  0.973415  0.973415\n",
      "1    120  0.973415  0.973415\n",
      "2    338  0.965235  0.965235\n",
      "\n",
      "|\n",
      "\n",
      "Parameters:\n",
      "-----------\n",
      "{'l2_penalty': 10, 'alpha': 0.0008636363636363636, 'max_iter': 1613}\n",
      "\n",
      "Scores:\n",
      "-------\n",
      "   seeds     train      test\n",
      "0    649  0.965235  0.965235\n",
      "1     57  0.975460  0.975460\n",
      "2    568  0.971370  0.971370\n",
      "\n",
      "|\n",
      "\n",
      "Parameters:\n",
      "-----------\n",
      "{'l2_penalty': 2, 'alpha': 0.00046363636363636366, 'max_iter': 1462}\n",
      "\n",
      "Scores:\n",
      "-------\n",
      "   seeds     train      test\n",
      "0    385  0.965235  0.965235\n",
      "1    570  0.965235  0.965235\n",
      "2     41  0.977505  0.977505\n",
      "\n",
      "|\n",
      "\n",
      "Parameters:\n",
      "-----------\n",
      "{'l2_penalty': 6, 'alpha': 0.0007, 'max_iter': 1597}\n",
      "\n",
      "Scores:\n",
      "-------\n",
      "   seeds    train     test\n",
      "0     75  0.96728  0.96728\n",
      "1    917  0.96728  0.96728\n",
      "2    405  0.96319  0.96319\n",
      "\n",
      "|\n",
      "\n",
      "Parameters:\n",
      "-----------\n",
      "{'l2_penalty': 2, 'alpha': 0.0009181818181818182, 'max_iter': 1005}\n",
      "\n",
      "Scores:\n",
      "-------\n",
      "   seeds     train      test\n",
      "0    733  0.967280  0.967280\n",
      "1    138  0.969325  0.969325\n",
      "2    623  0.963190  0.963190\n"
     ]
    }
   ],
   "source": [
    "model = LogisticRegression()\n",
    "\n",
    "parameters = {\"l2_penalty\": np.linspace(1,10,10).astype(int),\n",
    "              \"alpha\": np.linspace(0.001, 0.0001, 100),\n",
    "              \"max_iter\": np.linspace(1000, 2000, 200).astype(int)}\n",
    "\n",
    "scores = randomized_search_cv(model, data, parameters, cv=3, n_iter=10, test_size=0.3)\n",
    "\n",
    "#print(scores)\n",
    "\n",
    "for elem in scores:\n",
    "    print(\"\\n|\\n\")\n",
    "    print(\"Parameters:\\n-----------\")\n",
    "    print(elem[\"parameters\"])\n",
    "    print(\"\\nScores:\\n-------\")\n",
    "    print(pd.DataFrame({k:v for k,v in elem.items() if k!=\"parameters\"}))"
   ],
   "metadata": {
    "collapsed": false
   }
  },
  {
   "cell_type": "code",
   "execution_count": null,
   "outputs": [],
   "source": [],
   "metadata": {
    "collapsed": false
   }
  }
 ],
 "metadata": {
  "kernelspec": {
   "display_name": "Python 3",
   "language": "python",
   "name": "python3"
  },
  "language_info": {
   "codemirror_mode": {
    "name": "ipython",
    "version": 2
   },
   "file_extension": ".py",
   "mimetype": "text/x-python",
   "name": "python",
   "nbconvert_exporter": "python",
   "pygments_lexer": "ipython2",
   "version": "2.7.6"
  }
 },
 "nbformat": 4,
 "nbformat_minor": 0
}
