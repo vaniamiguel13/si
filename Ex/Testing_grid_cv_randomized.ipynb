{
 "cells": [
  {
   "cell_type": "code",
   "execution_count": 27,
   "outputs": [],
   "source": [
    "from si.data.dataset import Dataset\n",
    "from si.io.CSV import read_csv\n",
    "from si.model_selection.cross_validate import cross_validate\n",
    "from si.model_selection.grid_search import grid_search_cv\n",
    "from si.model_selection.randomized_search import randomized_search_cv\n",
    "from sklearn.preprocessing import StandardScaler\n",
    "import numpy as np\n",
    "import pandas as pd\n",
    "\n",
    "#Models\n",
    "from si.linear_model.logistic_regression import LogisticRegression"
   ],
   "metadata": {
    "collapsed": false
   }
  },
  {
   "cell_type": "markdown",
   "source": [
    "# Cross validation"
   ],
   "metadata": {
    "collapsed": false
   }
  },
  {
   "cell_type": "code",
   "execution_count": 28,
   "outputs": [],
   "source": [
    "#Importing data\n",
    "data= read_csv(\"D:/Mestrado/2ano/1semestre/SIB/si/datasets/breast/breast-bin.data\", \",\", False, True)\n",
    "data.X = StandardScaler().fit_transform(data.X)"
   ],
   "metadata": {
    "collapsed": false
   }
  },
  {
   "cell_type": "code",
   "execution_count": 29,
   "outputs": [
    {
     "name": "stdout",
     "output_type": "stream",
     "text": [
      "{'seeds': [132, 390, 152, 325, 200], 'train': [0.9754601226993865, 0.9631901840490797, 0.9713701431492843, 0.9611451942740287, 0.967280163599182], 'test': [0.9754601226993865, 0.9631901840490797, 0.9713701431492843, 0.9611451942740287, 0.967280163599182]}\n"
     ]
    }
   ],
   "source": [
    "model = LogisticRegression()\n",
    "scores = cross_validate(model, data, cv=5, test_size=0.3)\n",
    "print(scores)"
   ],
   "metadata": {
    "collapsed": false
   }
  },
  {
   "cell_type": "markdown",
   "source": [
    "# Grid search"
   ],
   "metadata": {
    "collapsed": false
   }
  },
  {
   "cell_type": "code",
   "execution_count": 30,
   "outputs": [
    {
     "name": "stdout",
     "output_type": "stream",
     "text": [
      "\n",
      "|\n",
      "\n",
      "\n",
      "Scores:\n",
      "-------\n",
      "{'seeds': [928, 21, 11], 'train': [0.967280163599182, 0.9693251533742331, 0.9631901840490797], 'test': [0.967280163599182, 0.9693251533742331, 0.9631901840490797], 'parameters': {'l2_penalty': 1, 'alpha': 0.001, 'max_iter': 1000}}\n",
      "\n",
      "|\n",
      "\n",
      "\n",
      "Scores:\n",
      "-------\n",
      "{'seeds': [653, 805, 353], 'train': [0.9693251533742331, 0.9591002044989775, 0.967280163599182], 'test': [0.9693251533742331, 0.9591002044989775, 0.967280163599182], 'parameters': {'l2_penalty': 1, 'alpha': 0.001, 'max_iter': 2000}}\n",
      "\n",
      "|\n",
      "\n",
      "\n",
      "Scores:\n",
      "-------\n",
      "{'seeds': [980, 292, 701], 'train': [0.9570552147239264, 0.9713701431492843, 0.9591002044989775], 'test': [0.9570552147239264, 0.9713701431492843, 0.9591002044989775], 'parameters': {'l2_penalty': 1, 'alpha': 0.0001, 'max_iter': 1000}}\n",
      "\n",
      "|\n",
      "\n",
      "\n",
      "Scores:\n",
      "-------\n",
      "{'seeds': [651, 961, 45], 'train': [0.9754601226993865, 0.9631901840490797, 0.9693251533742331], 'test': [0.9754601226993865, 0.9631901840490797, 0.9693251533742331], 'parameters': {'l2_penalty': 1, 'alpha': 0.0001, 'max_iter': 2000}}\n",
      "\n",
      "|\n",
      "\n",
      "\n",
      "Scores:\n",
      "-------\n",
      "{'seeds': [612, 421, 700], 'train': [0.9652351738241309, 0.9734151329243353, 0.9631901840490797], 'test': [0.9652351738241309, 0.9734151329243353, 0.9631901840490797], 'parameters': {'l2_penalty': 10, 'alpha': 0.001, 'max_iter': 1000}}\n",
      "\n",
      "|\n",
      "\n",
      "\n",
      "Scores:\n",
      "-------\n",
      "{'seeds': [555, 572, 70], 'train': [0.967280163599182, 0.9734151329243353, 0.9631901840490797], 'test': [0.967280163599182, 0.9734151329243353, 0.9631901840490797], 'parameters': {'l2_penalty': 10, 'alpha': 0.001, 'max_iter': 2000}}\n",
      "\n",
      "|\n",
      "\n",
      "\n",
      "Scores:\n",
      "-------\n",
      "{'seeds': [768, 128, 827], 'train': [0.9631901840490797, 0.9713701431492843, 0.9693251533742331], 'test': [0.9631901840490797, 0.9713701431492843, 0.9693251533742331], 'parameters': {'l2_penalty': 10, 'alpha': 0.0001, 'max_iter': 1000}}\n",
      "\n",
      "|\n",
      "\n",
      "\n",
      "Scores:\n",
      "-------\n",
      "{'seeds': [331, 433, 141], 'train': [0.967280163599182, 0.9591002044989775, 0.9652351738241309], 'test': [0.967280163599182, 0.9591002044989775, 0.9652351738241309], 'parameters': {'l2_penalty': 10, 'alpha': 0.0001, 'max_iter': 2000}}\n"
     ]
    }
   ],
   "source": [
    "model = LogisticRegression()\n",
    "\n",
    "parameters = {\"l2_penalty\": [1, 10],\n",
    "              \"alpha\": [0.001, 0.0001],\n",
    "              \"max_iter\": [1000, 2000]}\n",
    "\n",
    "scores = grid_search_cv(model, data, parameters, cv=3, test_size=0.3)\n",
    "\n",
    "for elem in scores:\n",
    "    print(\"\\n|\\n\")\n",
    "    print(\"\\nScores:\\n-------\")\n",
    "    print(elem)\n"
   ],
   "metadata": {
    "collapsed": false
   }
  },
  {
   "cell_type": "markdown",
   "source": [
    "# Randomized search"
   ],
   "metadata": {
    "collapsed": false
   }
  },
  {
   "cell_type": "code",
   "execution_count": 31,
   "outputs": [
    {
     "name": "stdout",
     "output_type": "stream",
     "text": [
      "\n",
      "|\n",
      "\n",
      "Parameters:\n",
      "-----------\n",
      "{'l2_penalty': 9, 'alpha': 0.00016363636363636363, 'max_iter': 1135}\n",
      "\n",
      "Scores:\n",
      "-------\n",
      "{'seeds': [677, 985, 652], 'train': [0.9652351738241309, 0.9734151329243353, 0.9754601226993865], 'test': [0.9652351738241309, 0.9734151329243353, 0.9754601226993865], 'parameters': {'l2_penalty': 9, 'alpha': 0.00016363636363636363, 'max_iter': 1135}}\n",
      "\n",
      "|\n",
      "\n",
      "Parameters:\n",
      "-----------\n",
      "{'l2_penalty': 5, 'alpha': 0.0006090909090909092, 'max_iter': 1984}\n",
      "\n",
      "Scores:\n",
      "-------\n",
      "{'seeds': [831, 851, 433], 'train': [0.967280163599182, 0.9631901840490797, 0.9591002044989775], 'test': [0.967280163599182, 0.9631901840490797, 0.9591002044989775], 'parameters': {'l2_penalty': 5, 'alpha': 0.0006090909090909092, 'max_iter': 1984}}\n",
      "\n",
      "|\n",
      "\n",
      "Parameters:\n",
      "-----------\n",
      "{'l2_penalty': 10, 'alpha': 0.0008818181818181819, 'max_iter': 1321}\n",
      "\n",
      "Scores:\n",
      "-------\n",
      "{'seeds': [524, 1, 468], 'train': [0.9754601226993865, 0.9775051124744376, 0.9652351738241309], 'test': [0.9754601226993865, 0.9775051124744376, 0.9652351738241309], 'parameters': {'l2_penalty': 10, 'alpha': 0.0008818181818181819, 'max_iter': 1321}}\n",
      "\n",
      "|\n",
      "\n",
      "Parameters:\n",
      "-----------\n",
      "{'l2_penalty': 10, 'alpha': 0.0007909090909090909, 'max_iter': 1376}\n",
      "\n",
      "Scores:\n",
      "-------\n",
      "{'seeds': [466, 454, 400], 'train': [0.9775051124744376, 0.9652351738241309, 0.9631901840490797], 'test': [0.9775051124744376, 0.9652351738241309, 0.9631901840490797], 'parameters': {'l2_penalty': 10, 'alpha': 0.0007909090909090909, 'max_iter': 1376}}\n",
      "\n",
      "|\n",
      "\n",
      "Parameters:\n",
      "-----------\n",
      "{'l2_penalty': 7, 'alpha': 0.0003545454545454546, 'max_iter': 1979}\n",
      "\n",
      "Scores:\n",
      "-------\n",
      "{'seeds': [652, 510, 288], 'train': [0.9754601226993865, 0.9775051124744376, 0.9713701431492843], 'test': [0.9754601226993865, 0.9775051124744376, 0.9713701431492843], 'parameters': {'l2_penalty': 7, 'alpha': 0.0003545454545454546, 'max_iter': 1979}}\n",
      "\n",
      "|\n",
      "\n",
      "Parameters:\n",
      "-----------\n",
      "{'l2_penalty': 1, 'alpha': 0.0006363636363636364, 'max_iter': 1994}\n",
      "\n",
      "Scores:\n",
      "-------\n",
      "{'seeds': [4, 137, 931], 'train': [0.9734151329243353, 0.9591002044989775, 0.9713701431492843], 'test': [0.9734151329243353, 0.9591002044989775, 0.9713701431492843], 'parameters': {'l2_penalty': 1, 'alpha': 0.0006363636363636364, 'max_iter': 1994}}\n",
      "\n",
      "|\n",
      "\n",
      "Parameters:\n",
      "-----------\n",
      "{'l2_penalty': 3, 'alpha': 0.000809090909090909, 'max_iter': 1653}\n",
      "\n",
      "Scores:\n",
      "-------\n",
      "{'seeds': [388, 854, 122], 'train': [0.9693251533742331, 0.9631901840490797, 0.967280163599182], 'test': [0.9693251533742331, 0.9631901840490797, 0.967280163599182], 'parameters': {'l2_penalty': 3, 'alpha': 0.000809090909090909, 'max_iter': 1653}}\n",
      "\n",
      "|\n",
      "\n",
      "Parameters:\n",
      "-----------\n",
      "{'l2_penalty': 3, 'alpha': 0.00030909090909090914, 'max_iter': 1206}\n",
      "\n",
      "Scores:\n",
      "-------\n",
      "{'seeds': [197, 828, 367], 'train': [0.9693251533742331, 0.9631901840490797, 0.9591002044989775], 'test': [0.9693251533742331, 0.9631901840490797, 0.9591002044989775], 'parameters': {'l2_penalty': 3, 'alpha': 0.00030909090909090914, 'max_iter': 1206}}\n",
      "\n",
      "|\n",
      "\n",
      "Parameters:\n",
      "-----------\n",
      "{'l2_penalty': 8, 'alpha': 0.0004363636363636364, 'max_iter': 1814}\n",
      "\n",
      "Scores:\n",
      "-------\n",
      "{'seeds': [844, 108, 446], 'train': [0.9693251533742331, 0.967280163599182, 0.9631901840490797], 'test': [0.9693251533742331, 0.967280163599182, 0.9631901840490797], 'parameters': {'l2_penalty': 8, 'alpha': 0.0004363636363636364, 'max_iter': 1814}}\n",
      "\n",
      "|\n",
      "\n",
      "Parameters:\n",
      "-----------\n",
      "{'l2_penalty': 6, 'alpha': 0.0005727272727272727, 'max_iter': 1954}\n",
      "\n",
      "Scores:\n",
      "-------\n",
      "{'seeds': [725, 935, 533], 'train': [0.9611451942740287, 0.9693251533742331, 0.9713701431492843], 'test': [0.9611451942740287, 0.9693251533742331, 0.9713701431492843], 'parameters': {'l2_penalty': 6, 'alpha': 0.0005727272727272727, 'max_iter': 1954}}\n",
      "\n",
      "|\n",
      "\n",
      "\n",
      "Scores:\n",
      "-------\n",
      "{'seeds': [962, 428, 939], 'train': [0.9693251533742331, 0.967280163599182, 0.9693251533742331], 'test': [0.9693251533742331, 0.967280163599182, 0.9693251533742331], 'parameters': {'l2_penalty': 7, 'alpha': 0.0007545454545454546, 'max_iter': 1045}}\n",
      "\n",
      "|\n",
      "\n",
      "\n",
      "Scores:\n",
      "-------\n",
      "{'seeds': [581, 586, 575], 'train': [0.9631901840490797, 0.9652351738241309, 0.9693251533742331], 'test': [0.9631901840490797, 0.9652351738241309, 0.9693251533742331], 'parameters': {'l2_penalty': 2, 'alpha': 0.0009545454545454546, 'max_iter': 1673}}\n",
      "\n",
      "|\n",
      "\n",
      "\n",
      "Scores:\n",
      "-------\n",
      "{'seeds': [55, 453, 511], 'train': [0.9570552147239264, 0.9611451942740287, 0.9693251533742331], 'test': [0.9570552147239264, 0.9611451942740287, 0.9693251533742331], 'parameters': {'l2_penalty': 10, 'alpha': 0.0005181818181818182, 'max_iter': 1206}}\n",
      "\n",
      "|\n",
      "\n",
      "\n",
      "Scores:\n",
      "-------\n",
      "{'seeds': [287, 120, 338], 'train': [0.9734151329243353, 0.9734151329243353, 0.9652351738241309], 'test': [0.9734151329243353, 0.9734151329243353, 0.9652351738241309], 'parameters': {'l2_penalty': 4, 'alpha': 0.0004909090909090909, 'max_iter': 1788}}\n",
      "\n",
      "|\n",
      "\n",
      "\n",
      "Scores:\n",
      "-------\n",
      "{'seeds': [649, 57, 568], 'train': [0.9652351738241309, 0.9754601226993865, 0.9713701431492843], 'test': [0.9652351738241309, 0.9754601226993865, 0.9713701431492843], 'parameters': {'l2_penalty': 10, 'alpha': 0.0008636363636363636, 'max_iter': 1613}}\n",
      "\n",
      "|\n",
      "\n",
      "\n",
      "Scores:\n",
      "-------\n",
      "{'seeds': [385, 570, 41], 'train': [0.9652351738241309, 0.9652351738241309, 0.9775051124744376], 'test': [0.9652351738241309, 0.9652351738241309, 0.9775051124744376], 'parameters': {'l2_penalty': 2, 'alpha': 0.00046363636363636366, 'max_iter': 1462}}\n",
      "\n",
      "|\n",
      "\n",
      "\n",
      "Scores:\n",
      "-------\n",
      "{'seeds': [75, 917, 405], 'train': [0.967280163599182, 0.967280163599182, 0.9631901840490797], 'test': [0.967280163599182, 0.967280163599182, 0.9631901840490797], 'parameters': {'l2_penalty': 6, 'alpha': 0.0007, 'max_iter': 1597}}\n",
      "\n",
      "|\n",
      "\n",
      "\n",
      "Scores:\n",
      "-------\n",
      "{'seeds': [733, 138, 623], 'train': [0.967280163599182, 0.9693251533742331, 0.9631901840490797], 'test': [0.967280163599182, 0.9693251533742331, 0.9631901840490797], 'parameters': {'l2_penalty': 2, 'alpha': 0.0009181818181818182, 'max_iter': 1005}}\n",
      "\n",
      "|\n",
      "\n",
      "\n",
      "Scores:\n",
      "-------\n",
      "{'seeds': [655, 156, 177], 'train': [0.9631901840490797, 0.9652351738241309, 0.9631901840490797], 'test': [0.9631901840490797, 0.9652351738241309, 0.9631901840490797], 'parameters': {'l2_penalty': 3, 'alpha': 0.0002818181818181818, 'max_iter': 1276}}\n",
      "\n",
      "|\n",
      "\n",
      "\n",
      "Scores:\n",
      "-------\n",
      "{'seeds': [236, 252, 788], 'train': [0.9652351738241309, 0.9693251533742331, 0.967280163599182], 'test': [0.9652351738241309, 0.9693251533742331, 0.967280163599182], 'parameters': {'l2_penalty': 7, 'alpha': 0.0008, 'max_iter': 1442}}\n"
     ]
    }
   ],
   "source": [
    "model = LogisticRegression()\n",
    "\n",
    "parameters = {\"l2_penalty\": np.linspace(1,10,10).astype(int),\n",
    "              \"alpha\": np.linspace(0.001, 0.0001, 100),\n",
    "              \"max_iter\": np.linspace(1000, 2000, 200).astype(int)}\n",
    "\n",
    "scores = randomized_search_cv(model, data, parameters, cv=3, n_iter=10, test_size=0.3)\n",
    "\n",
    "#print(scores)\n",
    "\n",
    "for elem in scores:\n",
    "    print(\"\\n|\\n\")\n",
    "    print(\"\\nScores:\\n-------\")\n",
    "    print(elem)"
   ],
   "metadata": {
    "collapsed": false
   }
  },
  {
   "cell_type": "code",
   "execution_count": 31,
   "outputs": [],
   "source": [],
   "metadata": {
    "collapsed": false
   }
  }
 ],
 "metadata": {
  "kernelspec": {
   "display_name": "Python 3",
   "language": "python",
   "name": "python3"
  },
  "language_info": {
   "codemirror_mode": {
    "name": "ipython",
    "version": 2
   },
   "file_extension": ".py",
   "mimetype": "text/x-python",
   "name": "python",
   "nbconvert_exporter": "python",
   "pygments_lexer": "ipython2",
   "version": "2.7.6"
  }
 },
 "nbformat": 4,
 "nbformat_minor": 0
}
