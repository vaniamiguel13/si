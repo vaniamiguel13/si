{
 "cells": [
  {
   "cell_type": "code",
   "execution_count": 1,
   "metadata": {
    "collapsed": true
   },
   "outputs": [],
   "source": [
    "from si.linear_model.logistic_regression import LogisticRegression\n",
    "import matplotlib.pyplot as plt"
   ]
  },
  {
   "cell_type": "code",
   "execution_count": 2,
   "outputs": [],
   "source": [
    "from si.data.dataset import Dataset\n",
    "from si.io.CSV import read_csv\n",
    "\n",
    "data1 = read_csv(\"D:/Mestrado/2ano/1semestre/SIB/si/datasets/breast/breast-bin.data\", \",\",True, True)\n",
    "\n",
    "\n",
    "# fit the model\n",
    "# model = LogisticRegression()\n",
    "# model.fit(data1)\n",
    "# model.line_plot()"
   ],
   "metadata": {
    "collapsed": false
   }
  },
  {
   "cell_type": "code",
   "execution_count": 4,
   "outputs": [],
   "source": [
    "from sklearn.preprocessing import StandardScaler\n",
    "dataset2= read_csv(\"D:/Mestrado/2ano/1semestre/SIB/si/datasets/breast/breast-bin.data\", \",\", False, True)\n",
    "\n",
    "dataset2.X = StandardScaler().fit_transform(dataset2.X)\n",
    "train_test_split(breast_bin_dataset)\n",
    "\n"
   ],
   "metadata": {
    "collapsed": false
   }
  },
  {
   "cell_type": "code",
   "execution_count": null,
   "outputs": [],
   "source": [
    "knn = NKKClassifier(3)\n",
    "lg = LogisticRegression(1, 0.001, 1000)"
   ],
   "metadata": {
    "collapsed": false
   }
  },
  {
   "cell_type": "code",
   "execution_count": null,
   "outputs": [],
   "source": [
    "voting = VotingClassifier ([knn, lg])\n",
    "voting.fit(train_dataset)\n",
    "voting.predict(test_dataset)"
   ],
   "metadata": {
    "collapsed": false
   }
  }
 ],
 "metadata": {
  "kernelspec": {
   "display_name": "Python 3",
   "language": "python",
   "name": "python3"
  },
  "language_info": {
   "codemirror_mode": {
    "name": "ipython",
    "version": 2
   },
   "file_extension": ".py",
   "mimetype": "text/x-python",
   "name": "python",
   "nbconvert_exporter": "python",
   "pygments_lexer": "ipython2",
   "version": "2.7.6"
  }
 },
 "nbformat": 4,
 "nbformat_minor": 0
}
