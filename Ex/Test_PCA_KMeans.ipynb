{
 "cells": [
  {
   "cell_type": "code",
   "execution_count": 9,
   "metadata": {
    "collapsed": true
   },
   "outputs": [],
   "source": [
    "from si.io.CSV import read_csv\n",
    "from si.io.data_file import read_data_file\n",
    "from si.clustering.kmeans import KMeans\n",
    "from si.decomposition.pca import PCA\n"
   ]
  },
  {
   "cell_type": "markdown",
   "source": [
    "## Data"
   ],
   "metadata": {
    "collapsed": false
   }
  },
  {
   "cell_type": "code",
   "execution_count": 10,
   "outputs": [],
   "source": [
    "data0 = read_csv('D:/Mestrado/2ano/1semestre/SIB/si/datasets/cpu/cpu.csv', sep=\",\", label= True)\n",
    "data1 = read_data_file(\"D:/Mestrado/2ano/1semestre/SIB/si/datasets/breast/breast-bin.data\", \",\")"
   ],
   "metadata": {
    "collapsed": false
   }
  },
  {
   "cell_type": "markdown",
   "source": [
    "## KMeans"
   ],
   "metadata": {
    "collapsed": false
   }
  },
  {
   "cell_type": "code",
   "execution_count": 11,
   "outputs": [
    {
     "name": "stdout",
     "output_type": "stream",
     "text": [
      "cpu:\n",
      "Iteração:10\n",
      "\n",
      "Groups:\n",
      "[3 2 2 2 0 2 2 2 2 2 4 3 1 0 4 0 4 3 4 3 3 3 3 3 3 4 3 4 3 3 4 4 1 1 0 0 4\n",
      " 3 1 3 1 0 0 0 1 1 4 3 1 1 1 4 0 1 3 1 1 1 1 1 1 1 4 1 0 0 4 4 3 3 1 1 4 4\n",
      " 4 1 3 1 4 1 4 3 0 4 3 3 3 3 2 1 2 2 3 0 0 2 2 2 0 4 4 3 4 4 4 3 1 4 4 3 3\n",
      " 3 3 3 1 0 0 3 1 1 0 0 4 4 4 3 1 1 0 0 0 1 1 1 0 0 0 3 1 3 1 1 1 0 0 0 0 0\n",
      " 0 1 0 2 2 2 0 2 2 4 4 3 3 1 1 1 0 1 1 0 0 0 4 3 1 3 3 0 3 4 3 1 1 4 4 3 3\n",
      " 1 0 1 1 0 0 2 2 1 2 2 2 2 2 2 3 3 3 3 1 1 1 1 3]\n",
      "\n",
      "\n",
      "\n",
      "breast:\n",
      "Iteração:7\n",
      "\n",
      "Groups:\n",
      "[1 3 3 3 0 3 3 3 3 3 4 1 2 0 4 0 4 1 4 1 1 1 1 1 1 4 1 4 1 1 4 4 2 2 0 0 4\n",
      " 1 2 1 2 0 0 0 2 2 4 1 2 2 2 4 0 2 1 2 2 2 2 2 2 2 4 2 0 0 4 4 1 1 2 2 4 4\n",
      " 4 2 1 2 4 2 4 1 0 4 1 1 1 1 3 2 3 3 1 0 0 3 3 3 0 4 4 1 4 4 4 1 2 4 4 1 1\n",
      " 1 1 1 2 0 0 1 2 2 0 0 4 4 4 1 2 2 0 0 0 2 2 2 0 0 0 1 2 1 2 2 2 0 0 0 0 0\n",
      " 0 2 0 3 3 3 0 3 3 4 4 1 1 2 2 2 0 2 2 0 0 0 4 1 2 1 1 0 1 4 1 2 2 4 4 1 1\n",
      " 2 0 2 2 0 0 3 3 2 3 3 3 3 3 3 1 1 1 1 2 2 2 2 1]\n"
     ]
    }
   ],
   "source": [
    "km = KMeans(5,800)\n",
    "\n",
    "print(\"cpu:\")\n",
    "km_fit = km.fit(data0)\n",
    "print(\"\\nGroups:\")\n",
    "print(km_fit.predict(data0))\n",
    "\n",
    "print(\"\\n\\n\")\n",
    "\n",
    "print(\"breast:\")\n",
    "km_fit = km.fit(data0)\n",
    "print(\"\\nGroups:\")\n",
    "print(km_fit.predict(data0))"
   ],
   "metadata": {
    "collapsed": false
   }
  },
  {
   "cell_type": "code",
   "execution_count": 12,
   "outputs": [
    {
     "name": "stdout",
     "output_type": "stream",
     "text": [
      "Iteração:24\n",
      "\n",
      "Groups:\n",
      "[0 1 4 4 1 4 4 1 4 3 4 4 4 4 4 1 4 4 1 3 1 4 4 4 1 0 0 3 0 2 3 1 2 0 4 3 1\n",
      " 2 4 1 3 2 4 1 4 4 0 2 1 4 4 3 1 4 4 4 1 1 4 1 2 0 1 4 4 1 4 4 4 4 4 0 0 1\n",
      " 1 4 4 1 1 2 1 4 4 0 0 3 1 4 0 1 2 4 3 4 4 1 4 4 4 1 4 2 4 0 3 0 0 1 4 4 4\n",
      " 4 2 4 4 1 3 2 1 4 4 1 1 1 4 1 1 4 4 1 1 4 4 3 3 4 2 3 1 0 0 4 4 4 1 1 4 0\n",
      " 1 1 4 4 3 4 4 4 1 4 4 0 4 1 1 4 0 1 0 4 4 1 4 1 0 3 2 1 1 4 2 4 1 4 4 3 2\n",
      " 4 4 1 1 0 4 4 4 4 4 1 3 0 4 0 0 1 3 4 1 4 1 4 1 1 4 0 4 1 4 4 4 4 1 4 0 1\n",
      " 4 2 4 4 4 4 4 3 0 1 1 0 4 2 1 4 0 0 1 1 3 0 0 2 4 3 3 1 4 4 1 1 4 3 1 3 1\n",
      " 1 3 0 4 4 1 2 3 4 1 1 4 4 4 4 2 2 1 4 3 4 4 0 0 2 2 3 4 1 4 1 4 3 1 1 4 1\n",
      " 4 2 4 3 0 1 2 4 3 4 4 4 4 0 0 1 0 1 1 1 1 2 1 0 4 4 4 4 0 0 4 1 1 0 4 4 2\n",
      " 4 0 1 0 1 2 0 2 4 4 4 4 4 4 2 4 4 4 4 4 4 1 4 4 2 4 4 4 1 1 4 4 3 1 3 3 2\n",
      " 3 4 1 4 1 0 4 4 4 1 4 1 1 3 2 4 2 4 4 1 4 0 1 0 3 1 1 1 0 4 0 4 2 4 2 1 4\n",
      " 4 4 0 2 3 0 1 1 3 1 3 4 4 0 4 2 2 2 4 1 4 4 2 2 0 4 4 4 4 4 4 3 4 3 0 1 3\n",
      " 4 2 1 4 0 1 1 1 0 4 3 4 4 4 1 3 4 4 0 1 1 0 4 4 4 4 4 0 0 0 2 4 4 1 1 0 0\n",
      " 4 1 4 4 3 4 4 1 4 3 0 4 1 4 4 2 3 1 4 3 1 0 1 2 1 1 1 3 4 0 3 3 1 1 1 1 0\n",
      " 3 4 1 3 2 3 0 1 4 3 1 3 4 4 0 1 4 1 0 1 2 4 1 3 1 1 4 1 3 4 4 0 3 2 2 1 0\n",
      " 4 1 1 1 2 4 1 1 4 4 1 1 4 3 1 1 0 4 4 4 1 4 1 2 4 4 4 1 4 4 4 0 3 4 0 4 1\n",
      " 3 2 0 0 0 1 1 1 4 1 4 4 3 0 1 0 1 1 1 4 3 1 4 0 3 4 4 3 3 1 1 2 1 3 2 0 4\n",
      " 4 1 4 1 1 4 2 2 0 3 0 1 3 4 4 1 3 4 4 2 4 4 1 1 0 4 2 1 0 2 1 1 2 2 1 2 1\n",
      " 0 4 4 4 4 4 4 3 3 1 4 1 3 4 3 4 3 1 4 0 1 1 1 4 3 0 0 1 4 1 1 4 0]\n"
     ]
    }
   ],
   "source": [
    "km_fit = km.fit(data1)\n",
    "#print(km_fit.transform(data1))\n",
    "print(\"\\nGroups:\")\n",
    "print(km_fit.predict(data1))"
   ],
   "metadata": {
    "collapsed": false
   }
  },
  {
   "cell_type": "markdown",
   "source": [
    "## PCA"
   ],
   "metadata": {
    "collapsed": false
   }
  },
  {
   "cell_type": "code",
   "execution_count": 13,
   "outputs": [
    {
     "name": "stdout",
     "output_type": "stream",
     "text": [
      "Mean Values:\n",
      " [2.03822967e+02 2.86798086e+03 1.17961531e+04 2.52057416e+01\n",
      " 4.69856459e+00 1.82679426e+01]\n",
      "\n",
      "Principal Components:\n",
      " [[ 8.21506451e-03 -2.53635641e-01 -9.67262513e-01 -1.83761695e-03\n",
      "  -3.19372302e-04 -1.10746423e-03]\n",
      " [-5.83673547e-03  9.67261553e-01 -2.53687478e-01  2.74999297e-03\n",
      "   3.10460237e-04 -2.45462791e-03]\n",
      " [ 9.99729574e-01  7.77256579e-03  6.49907376e-03 -1.92258953e-02\n",
      "  -2.43657843e-03 -7.90921603e-03]\n",
      " [-2.09034573e-02  2.12244013e-03  1.45379667e-03 -9.41865950e-01\n",
      "  -6.91185701e-02 -3.28127387e-01]\n",
      " [ 1.19444696e-03  2.99213155e-03 -1.24187297e-03 -3.32720485e-01\n",
      "   6.87226015e-02  9.40511755e-01]]\n",
      "\n",
      "Explained Variance:\n",
      " [1.46565071e+08 6.00233031e+06 5.74626774e+04 9.72183692e+02\n",
      " 1.62903611e+02]\n",
      "\n",
      "Transform:\n",
      " [[ 6.26769628e+03 -1.05522829e+03 -1.42105728e+02 -2.66487014e+02\n",
      "   2.64795221e+01]\n",
      " [-2.08455516e+04 -1.60451764e+02 -3.82772206e+00  3.27857579e+01\n",
      "   9.37704023e-01]\n",
      " [-2.08455516e+04 -1.60451764e+02 -3.82772206e+00  3.27857579e+01\n",
      "   9.37704023e-01]\n",
      " ...\n",
      " [ 3.89143185e+03  1.23872384e+02 -1.09694634e+02  1.96139799e+01\n",
      "   6.21004118e+00]\n",
      " [ 4.27171537e+03 -1.31736310e+03  2.33144161e+02 -1.63726282e+01\n",
      "  -2.17698872e+01]\n",
      " [ 8.01705003e+03  1.69322446e+02  2.11556106e+02  8.98764633e+00\n",
      "  -4.69517960e+00]]\n"
     ]
    }
   ],
   "source": [
    "pca = PCA(5)\n",
    "\n",
    "pca.fit(data0)\n",
    "print(\"Mean Values:\\n\", pca.mean)\n",
    "print(\"\\nPrincipal Components:\\n\", pca.comp_princ)\n",
    "print(\"\\nExplained Variance:\\n\", pca.explained_variance)\n",
    "print(\"\\nTransform:\\n\",pca.transform(data0))\n",
    "\n"
   ],
   "metadata": {
    "collapsed": false
   }
  }
 ],
 "metadata": {
  "kernelspec": {
   "display_name": "Python 3",
   "language": "python",
   "name": "python3"
  },
  "language_info": {
   "codemirror_mode": {
    "name": "ipython",
    "version": 2
   },
   "file_extension": ".py",
   "mimetype": "text/x-python",
   "name": "python",
   "nbconvert_exporter": "python",
   "pygments_lexer": "ipython2",
   "version": "2.7.6"
  }
 },
 "nbformat": 4,
 "nbformat_minor": 0
}
