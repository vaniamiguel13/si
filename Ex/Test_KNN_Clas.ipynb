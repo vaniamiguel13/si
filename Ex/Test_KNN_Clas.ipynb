{
 "cells": [
  {
   "cell_type": "code",
   "execution_count": 6,
   "outputs": [],
   "source": [
    "from si.io.CSV import read_csv\n",
    "from si.model_selection.split import train_test_split\n",
    "from si.neighbors.knn_classifier import KNNClassifier\n",
    "from si.neighbors.knn_regressor import KNNRegressor"
   ],
   "metadata": {
    "collapsed": false
   }
  },
  {
   "cell_type": "markdown",
   "source": [
    "## Classification"
   ],
   "metadata": {
    "collapsed": false
   }
  },
  {
   "cell_type": "code",
   "execution_count": 7,
   "outputs": [],
   "source": [
    "data = read_csv('D:/Mestrado/2ano/1semestre/SIB/si/datasets/iris/iris.csv', sep=\",\", label= True)\n",
    "data_train, data_test = train_test_split(data, 0.5, 0)\n"
   ],
   "metadata": {
    "collapsed": false
   }
  },
  {
   "cell_type": "code",
   "execution_count": 8,
   "outputs": [
    {
     "name": "stdout",
     "output_type": "stream",
     "text": [
      "Predictions:\n",
      "\n",
      "['Iris-virginica' 'Iris-versicolo' 'Iris-setosa' 'Iris-virginica'\n",
      " 'Iris-setosa' 'Iris-virginica' 'Iris-setosa' 'Iris-versicolo'\n",
      " 'Iris-versicolo' 'Iris-versicolo' 'Iris-virginica' 'Iris-versicolo'\n",
      " 'Iris-versicolo' 'Iris-versicolo' 'Iris-versicolo' 'Iris-setosa'\n",
      " 'Iris-versicolo' 'Iris-versicolo' 'Iris-setosa' 'Iris-setosa'\n",
      " 'Iris-virginica' 'Iris-versicolo' 'Iris-setosa' 'Iris-setosa'\n",
      " 'Iris-virginica' 'Iris-setosa' 'Iris-setosa' 'Iris-versicolo'\n",
      " 'Iris-versicolo' 'Iris-setosa' 'Iris-virginica' 'Iris-versicolo'\n",
      " 'Iris-setosa' 'Iris-virginica' 'Iris-virginica' 'Iris-versicolo'\n",
      " 'Iris-setosa' 'Iris-virginica' 'Iris-versicolo' 'Iris-versicolo'\n",
      " 'Iris-virginica' 'Iris-setosa' 'Iris-virginica' 'Iris-setosa'\n",
      " 'Iris-setosa' 'Iris-versicolo' 'Iris-virginica' 'Iris-virginica'\n",
      " 'Iris-versicolo' 'Iris-virginica' 'Iris-versicolo' 'Iris-virginica'\n",
      " 'Iris-versicolo' 'Iris-versicolo' 'Iris-virginica' 'Iris-virginica'\n",
      " 'Iris-versicolo' 'Iris-virginica' 'Iris-versicolo' 'Iris-virginica'\n",
      " 'Iris-versicolo' 'Iris-setosa' 'Iris-virginica' 'Iris-versicolo'\n",
      " 'Iris-versicolo' 'Iris-versicolo' 'Iris-versicolo' 'Iris-virginica'\n",
      " 'Iris-setosa' 'Iris-setosa' 'Iris-virginica' 'Iris-versicolo'\n",
      " 'Iris-setosa' 'Iris-setosa' 'Iris-versicolo']\n",
      "\n",
      "Score:\n",
      "\n",
      "0.5733333333333334\n"
     ]
    }
   ],
   "source": [
    "model = KNNClassifier(5)\n",
    "model.fit(data_train)\n",
    "\n",
    "print(\"Predictions:\\n\")\n",
    "print(model.predict(data_test))\n",
    "print(\"\\nScore:\\n\")\n",
    "print(model.score(data_test))"
   ],
   "metadata": {
    "collapsed": false
   }
  },
  {
   "cell_type": "markdown",
   "source": [
    "## Regressor"
   ],
   "metadata": {
    "collapsed": false
   }
  },
  {
   "cell_type": "code",
   "execution_count": 9,
   "outputs": [],
   "source": [
    "data= read_csv('D:/Mestrado/2ano/1semestre/SIB/si/datasets/cpu/cpu.csv', sep=\",\", label= True)\n",
    "data_train, data_test = train_test_split(data, 0.5, 0)"
   ],
   "metadata": {
    "collapsed": false
   }
  },
  {
   "cell_type": "code",
   "execution_count": 10,
   "outputs": [
    {
     "name": "stdout",
     "output_type": "stream",
     "text": [
      "Predictions:\n",
      "\n",
      "[ 55.   98.4  56.  282.8  55.4  33.4  76.4  16.  223.  163.2  34.  386.6\n",
      "  69.6 126.2 361.   30.4  34.   28.6  22.  102.6 102.6  72.  361.   55.4\n",
      "  30.4 113.   30.4  29.  102.6  69.6  55.4  52.6  58.4  45.6 121.2 113.\n",
      "  32.4  55.4  33.8 113.  198.4  50.4  31.6  60.4 125.6  98.4 113.   55.4\n",
      "  61.6  26.2  70.   70.   47.2 248.6 808.2  34.   31.8  52.6 113.   31.8\n",
      " 282.8  16.   38.2  31.4  70.  102.6  31.4  34.  368.   67.8  45.4  23.6\n",
      " 125.2  28.6 211.2  32.4  30.  123.2  57.   30.4  30.4  33.8 282.8 125.6\n",
      "  19.4  41.4  30.4  55.4  69.6  26.2  29.6  34.  123.2  32.6 282.8  31.4\n",
      "  32.4 221.4 113.  102.6 113.6  98.4  32.8  32.8]\n",
      "\n",
      "Score:\n",
      "\n",
      "53.571910693801236\n"
     ]
    }
   ],
   "source": [
    "# k = 3\n",
    "model = KNNRegressor(5)\n",
    "model.fit(data_train)\n",
    "\n",
    "print(\"Predictions:\\n\")\n",
    "print(model.predict(data_test))\n",
    "print(\"\\nScore:\\n\")\n",
    "print(model.score(data_test))"
   ],
   "metadata": {
    "collapsed": false
   }
  },
  {
   "cell_type": "code",
   "execution_count": 10,
   "outputs": [],
   "source": [],
   "metadata": {
    "collapsed": false
   }
  }
 ],
 "metadata": {
  "kernelspec": {
   "display_name": "Python 3",
   "language": "python",
   "name": "python3"
  },
  "language_info": {
   "codemirror_mode": {
    "name": "ipython",
    "version": 2
   },
   "file_extension": ".py",
   "mimetype": "text/x-python",
   "name": "python",
   "nbconvert_exporter": "python",
   "pygments_lexer": "ipython2",
   "version": "2.7.6"
  }
 },
 "nbformat": 4,
 "nbformat_minor": 0
}
