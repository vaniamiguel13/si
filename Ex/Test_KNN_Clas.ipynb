{
 "cells": [
  {
   "cell_type": "code",
   "execution_count": 11,
   "metadata": {
    "collapsed": true
   },
   "outputs": [],
   "source": [
    "from si.io.CSV import read_csv\n",
    "from si.model_selection.split import train_test_split\n",
    "from si.neighbors.knn_classifier import KNNClassifier\n",
    "from si.neighbors.knn_regressor import KNNRegressor"
   ]
  },
  {
   "cell_type": "markdown",
   "source": [
    "## Classification"
   ],
   "metadata": {
    "collapsed": false
   }
  },
  {
   "cell_type": "code",
   "execution_count": 12,
   "outputs": [],
   "source": [
    "data = read_csv('D:/Mestrado/2ano/1semestre/SIB/si/datasets/iris/iris.csv', sep=\",\", label= True)\n",
    "data_train, data_test = train_test_split(data, 0.7, 0)\n"
   ],
   "metadata": {
    "collapsed": false
   }
  },
  {
   "cell_type": "code",
   "execution_count": 13,
   "outputs": [
    {
     "name": "stdout",
     "output_type": "stream",
     "text": [
      "Predictions:\n",
      "\n",
      "['Iris-virginica' 'Iris-versicolo' 'Iris-setosa' 'Iris-virginica'\n",
      " 'Iris-setosa' 'Iris-virginica' 'Iris-setosa' 'Iris-versicolo'\n",
      " 'Iris-versicolo' 'Iris-versicolo' 'Iris-virginica' 'Iris-versicolo'\n",
      " 'Iris-versicolo' 'Iris-versicolo' 'Iris-versicolo' 'Iris-setosa'\n",
      " 'Iris-versicolo' 'Iris-versicolo' 'Iris-setosa' 'Iris-setosa'\n",
      " 'Iris-versicolo' 'Iris-versicolo' 'Iris-setosa' 'Iris-setosa'\n",
      " 'Iris-versicolo' 'Iris-setosa' 'Iris-setosa' 'Iris-versicolo'\n",
      " 'Iris-versicolo' 'Iris-setosa' 'Iris-virginica' 'Iris-versicolo'\n",
      " 'Iris-setosa' 'Iris-versicolo' 'Iris-virginica' 'Iris-versicolo'\n",
      " 'Iris-setosa' 'Iris-virginica' 'Iris-versicolo' 'Iris-versicolo'\n",
      " 'Iris-virginica' 'Iris-setosa' 'Iris-virginica' 'Iris-setosa'\n",
      " 'Iris-setosa' 'Iris-versicolo' 'Iris-virginica' 'Iris-virginica'\n",
      " 'Iris-versicolo' 'Iris-virginica' 'Iris-versicolo' 'Iris-virginica'\n",
      " 'Iris-versicolo' 'Iris-versicolo' 'Iris-versicolo' 'Iris-versicolo'\n",
      " 'Iris-versicolo' 'Iris-virginica' 'Iris-versicolo' 'Iris-virginica'\n",
      " 'Iris-versicolo' 'Iris-setosa' 'Iris-virginica' 'Iris-versicolo'\n",
      " 'Iris-versicolo' 'Iris-versicolo' 'Iris-versicolo' 'Iris-virginica'\n",
      " 'Iris-setosa' 'Iris-setosa' 'Iris-virginica' 'Iris-versicolo'\n",
      " 'Iris-setosa' 'Iris-setosa' 'Iris-versicolo' 'Iris-setosa'\n",
      " 'Iris-virginica' 'Iris-versicolo' 'Iris-setosa' 'Iris-versicolo'\n",
      " 'Iris-virginica' 'Iris-versicolo' 'Iris-setosa' 'Iris-virginica'\n",
      " 'Iris-virginica' 'Iris-virginica' 'Iris-virginica' 'Iris-setosa'\n",
      " 'Iris-setosa' 'Iris-virginica' 'Iris-virginica' 'Iris-setosa'\n",
      " 'Iris-virginica' 'Iris-setosa' 'Iris-versicolo' 'Iris-virginica'\n",
      " 'Iris-setosa' 'Iris-setosa' 'Iris-virginica' 'Iris-setosa' 'Iris-setosa'\n",
      " 'Iris-setosa' 'Iris-versicolo' 'Iris-virginica' 'Iris-virginica']\n",
      "\n",
      "Score:\n",
      "\n",
      "0.6\n"
     ]
    }
   ],
   "source": [
    "model = KNNClassifier(5)\n",
    "model.fit(data_train)\n",
    "\n",
    "print(\"Predictions:\\n\")\n",
    "print(model.predict(data_test))\n",
    "print(\"\\nScore:\\n\")\n",
    "print(model.score(data_test))"
   ],
   "metadata": {
    "collapsed": false
   }
  },
  {
   "cell_type": "markdown",
   "source": [
    "## Regressor"
   ],
   "metadata": {
    "collapsed": false
   }
  },
  {
   "cell_type": "code",
   "execution_count": 14,
   "outputs": [],
   "source": [
    "data_r = read_csv('D:/Mestrado/2ano/1semestre/SIB/si/datasets/cpu/cpu.csv', sep=\",\", label= True)\n",
    "data_train_r, data_test_r = train_test_split(data_r, 0.7, 0)"
   ],
   "metadata": {
    "collapsed": false
   }
  },
  {
   "cell_type": "code",
   "execution_count": 15,
   "outputs": [
    {
     "name": "stdout",
     "output_type": "stream",
     "text": [
      "Predictions:\n",
      "\n",
      "[ 55.  101.   57.  293.2  52.4 101.  101.4  26.  239.  133.4  33.2 293.2\n",
      "  57.2  99.  293.2  28.6  43.2  32.6  28.6 101.  101.   57.2 293.2  47.4\n",
      "  28.6 101.4  29.   30.  101.   36.   52.2  52.6  70.6  48.6  95.  101.4\n",
      "  28.8  56.4  30.  101.4 192.   62.4  30.   53.6  99.  105.8 101.4  54.2\n",
      "  64.2  27.2  40.4  33.2  52.8 266.2 602.   45.   37.4  52.6 101.4  37.4\n",
      " 293.2  26.   43.8  29.6  40.4 101.   29.6  33.2 293.2  68.2  34.6  28.6\n",
      "  99.   32.6 219.2  30.   28.6  95.   64.2  29.   34.4  30.  258.6  99.\n",
      "  28.6  36.2  28.6  52.4  43.6  27.2  31.2  40.8  95.   28.6 258.6  29.6\n",
      "  28.8 239.  101.4 101.   95.  105.8  28.8  28.8  53.6 293.2  99.  258.6\n",
      "  95.   30.   52.8 602.   29.6  28.6  33.2 133.4  28.8 293.2 101.4  95.\n",
      " 101.4  29.   33.2  33.2  28.6  70.6  95.  293.2  53.2  28.6 101.   40.8\n",
      " 136.4  29.6 293.2  32.6  32.6  95.   32.6  30.   36.4 239.   32.6  34.2\n",
      "  52.6  30. ]\n",
      "\n",
      "Score:\n",
      "\n",
      "74.34724341049724\n"
     ]
    }
   ],
   "source": [
    "# k = 3\n",
    "model = KNNRegressor(5)\n",
    "model.fit(data_train_r)\n",
    "\n",
    "print(\"Predictions:\\n\")\n",
    "print(model.predict(data_test_r))\n",
    "print(\"\\nScore:\\n\")\n",
    "print(model.score(data_test_r))"
   ],
   "metadata": {
    "collapsed": false
   }
  }
 ],
 "metadata": {
  "kernelspec": {
   "display_name": "Python 3",
   "language": "python",
   "name": "python3"
  },
  "language_info": {
   "codemirror_mode": {
    "name": "ipython",
    "version": 2
   },
   "file_extension": ".py",
   "mimetype": "text/x-python",
   "name": "python",
   "nbconvert_exporter": "python",
   "pygments_lexer": "ipython2",
   "version": "2.7.6"
  }
 },
 "nbformat": 4,
 "nbformat_minor": 0
}
